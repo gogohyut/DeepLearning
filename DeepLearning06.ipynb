{
  "nbformat": 4,
  "nbformat_minor": 0,
  "metadata": {
    "colab": {
      "provenance": []
    },
    "kernelspec": {
      "name": "python3",
      "display_name": "Python 3"
    },
    "language_info": {
      "name": "python"
    }
  },
  "cells": [
    {
      "cell_type": "code",
      "execution_count": 8,
      "metadata": {
        "id": "T4w2u6T68BGi"
      },
      "outputs": [],
      "source": [
        "# numpy 입력\n",
        "import numpy as np\n",
        "\n",
        "perch_length = np.array([8.4, 13.7, 15.0, 16.2, 17.4, 18.0, 18.7, 19.0, 19.6, 20.0, 21.0,\n",
        "       21.0, 21.0, 21.3, 22.0, 22.0, 22.0, 22.0, 22.0, 22.5, 22.5, 22.7,\n",
        "       23.0, 23.5, 24.0, 24.0, 24.6, 25.0, 25.6, 26.5, 27.3, 27.5, 27.5,\n",
        "       27.5, 28.0, 28.7, 30.0, 32.8, 34.5, 35.0, 36.5, 36.0, 37.0, 37.0,\n",
        "       39.0, 39.0, 39.0, 40.0, 40.0, 40.0, 40.0, 42.0, 43.0, 43.0, 43.5,\n",
        "       44.0])\n",
        "\n",
        "perch_weight = np.array([5.9, 32.0, 40.0, 51.5, 70.0, 100.0, 78.0, 80.0, 85.0, 85.0, 110.0,\n",
        "       115.0, 125.0, 130.0, 120.0, 120.0, 130.0, 135.0, 110.0, 130.0,\n",
        "       150.0, 145.0, 150.0, 170.0, 225.0, 145.0, 188.0, 180.0, 197.0,\n",
        "       218.0, 300.0, 260.0, 265.0, 250.0, 250.0, 300.0, 320.0, 514.0,\n",
        "       556.0, 840.0, 685.0, 700.0, 700.0, 690.0, 900.0, 650.0, 820.0,\n",
        "       850.0, 900.0, 1015.0, 820.0, 1100.0, 1000.0, 1100.0, 1000.0,\n",
        "       1000.0])"
      ]
    },
    {
      "cell_type": "code",
      "source": [
        "#matplotlib을 이용한 시각화 작업\n",
        "import matplotlib.pyplot as plt\n",
        "\n",
        "plt.scatter(perch_length, perch_weight)\n",
        "plt.xlabel('length')\n",
        "plt.ylabel('weight')\n",
        "plt.show()"
      ],
      "metadata": {
        "colab": {
          "base_uri": "https://localhost:8080/",
          "height": 449
        },
        "id": "4cWmJfoo-R3K",
        "outputId": "7f91983d-8f9c-4bdf-a334-6146bd04fab8"
      },
      "execution_count": 9,
      "outputs": [
        {
          "output_type": "display_data",
          "data": {
            "text/plain": [
              "<Figure size 640x480 with 1 Axes>"
            ],
            "image/png": "[encoded data removed]"
          },
          "metadata": {}
        }
      ]
    },
    {
      "cell_type": "markdown",
      "source": [
        "pyplot은 파이썬의 데이터 시각화 라이브러리인 matplotlib의 서브 모듈로 그래프를 그릴 수 있도록 도와주는 도구이다."
      ],
      "metadata": {
        "id": "vsE8UE7jMSdh"
      }
    },
    {
      "cell_type": "code",
      "source": [
        "#모델 훈련 세트 준비 및 학습/테스트 입력값 출력\n",
        "from sklearn.model_selection import train_test_split\n",
        "\n",
        "train_input, test_input, train_target, test_target = train_test_split(\n",
        "    perch_length, perch_weight, random_state=42)\n",
        "\n",
        "train_input = train_input.reshape(-1, 1)\n",
        "test_input = test_input.reshape(-1, 1)\n",
        "\n",
        "print(train_input)\n",
        "print(test_input)"
      ],
      "metadata": {
        "colab": {
          "base_uri": "https://localhost:8080/"
        },
        "id": "wqN1DAAk-j8y",
        "outputId": "899960bd-91ad-4126-9832-9ae460703085"
      },
      "execution_count": 11,
      "outputs": [
        {
          "output_type": "stream",
          "name": "stdout",
          "text": [
            "[[19.6]\n",
            " [22. ]\n",
            " [18.7]\n",
            " [17.4]\n",
            " [36. ]\n",
            " [25. ]\n",
            " [40. ]\n",
            " [39. ]\n",
            " [43. ]\n",
            " [22. ]\n",
            " [20. ]\n",
            " [22. ]\n",
            " [24. ]\n",
            " [27.5]\n",
            " [43. ]\n",
            " [40. ]\n",
            " [24. ]\n",
            " [21. ]\n",
            " [27.5]\n",
            " [40. ]\n",
            " [32.8]\n",
            " [26.5]\n",
            " [36.5]\n",
            " [13.7]\n",
            " [22.7]\n",
            " [15. ]\n",
            " [37. ]\n",
            " [35. ]\n",
            " [28.7]\n",
            " [23.5]\n",
            " [39. ]\n",
            " [21. ]\n",
            " [23. ]\n",
            " [22. ]\n",
            " [44. ]\n",
            " [22.5]\n",
            " [19. ]\n",
            " [37. ]\n",
            " [22. ]\n",
            " [25.6]\n",
            " [42. ]\n",
            " [34.5]]\n",
            "[[ 8.4]\n",
            " [18. ]\n",
            " [27.5]\n",
            " [21.3]\n",
            " [22.5]\n",
            " [40. ]\n",
            " [30. ]\n",
            " [24.6]\n",
            " [39. ]\n",
            " [21. ]\n",
            " [43.5]\n",
            " [16.2]\n",
            " [28. ]\n",
            " [27.3]]\n"
          ]
        }
      ]
    },
    {
      "cell_type": "markdown",
      "source": [
        "train_input은 훈련데이터 x축(입력값)의 역할을 하고, train_target은 훈련데이터 y축(정답값)의 역할을 하고, test_input은 테스트 데이터 x축(입력값)의 역할을 하고, test_target은 테스트 데이터 y축(정닶값)의 역할을 한다."
      ],
      "metadata": {
        "id": "p9LkDTv7M3nT"
      }
    },
    {
      "cell_type": "code",
      "source": [
        "#회귀 모델 훈련 1에 가까울수록 정확도가 높다.\n",
        "from sklearn.neighbors import KNeighborsRegressor\n",
        "\n",
        "knr = KNeighborsRegressor()\n",
        "knr.fit(train_input, train_target)\n",
        "\n",
        "knr.score(test_input, test_target)\n"
      ],
      "metadata": {
        "colab": {
          "base_uri": "https://localhost:8080/"
        },
        "id": "HBam5KhB_C16",
        "outputId": "b48295e0-28ca-4256-8f31-9c29e89aae34"
      },
      "execution_count": 12,
      "outputs": [
        {
          "output_type": "execute_result",
          "data": {
            "text/plain": [
              "0.992809406101064"
            ]
          },
          "metadata": {},
          "execution_count": 12
        }
      ]
    },
    {
      "cell_type": "markdown",
      "source": [
        "knr.fit는 모델을 학습시키는 함수이다."
      ],
      "metadata": {
        "id": "mYzlnIq-NXvd"
      }
    },
    {
      "cell_type": "code",
      "source": [
        "#평균절대오차\n",
        "from sklearn.metrics import mean_absolute_error\n",
        "\n",
        "test_perdiction = knr.predict(test_input)\n",
        "mae = mean_absolute_error(test_target, test_perdiction) #평균에서 얼마나 벌어졌는지 계산해서 알려주는 식\n",
        "print(mae) #평균19.xxx만큼 차이가 난다."
      ],
      "metadata": {
        "colab": {
          "base_uri": "https://localhost:8080/"
        },
        "id": "3UgECQyxASpU",
        "outputId": "f5959996-651d-438c-99fb-c09f32b7a285"
      },
      "execution_count": 13,
      "outputs": [
        {
          "output_type": "stream",
          "name": "stdout",
          "text": [
            "19.157142857142862\n"
          ]
        }
      ]
    },
    {
      "cell_type": "markdown",
      "source": [
        "mae는 예측값과 실제값이 차이의 절댓값들의 평균이고 머신러닝과 통계에서 자주 쓰이는 오차 측정 지표 중 하나이다."
      ],
      "metadata": {
        "id": "hMnZOgdcNgAy"
      }
    },
    {
      "cell_type": "code",
      "source": [
        "#이웃 개수 줄이기\n",
        "knr.n_neighbors = 3\n",
        "knr.fit(train_input, train_target)\n",
        "\n",
        "print(knr.score(train_input, train_target))\n",
        "\n",
        "print(knr.score(test_input, test_target))"
      ],
      "metadata": {
        "colab": {
          "base_uri": "https://localhost:8080/"
        },
        "id": "1-Dhe39fApEI",
        "outputId": "c28c72e6-ed0f-4cb8-d5d2-8b91d8140a4b"
      },
      "execution_count": 16,
      "outputs": [
        {
          "output_type": "stream",
          "name": "stdout",
          "text": [
            "0.9804899950518966\n",
            "0.9746459963987609\n"
          ]
        }
      ]
    },
    {
      "cell_type": "markdown",
      "source": [
        "knr.score()은 모델의 예측 성능을 평가하는 함수이다.\n",
        "knr.score(train_input, train_target)이렇게 쓰면 test_input에 대해 얼마나 정확하게 test_target을 예측했는지 R2값으로 알려준다."
      ],
      "metadata": {
        "id": "Xw3Jdj1kNtfH"
      }
    },
    {
      "cell_type": "code",
      "source": [
        "print(knr.predict([[100]]))"
      ],
      "metadata": {
        "colab": {
          "base_uri": "https://localhost:8080/"
        },
        "id": "8B6vLSqIDB2z",
        "outputId": "a8254cf1-97c3-40f3-bec3-a04dfdf971ef"
      },
      "execution_count": 21,
      "outputs": [
        {
          "output_type": "stream",
          "name": "stdout",
          "text": [
            "[1033.33333333]\n"
          ]
        }
      ]
    },
    {
      "cell_type": "markdown",
      "source": [
        "knr.predict는 훈련된 모델이 새로운 입력값에 대해 예측값을 출력하는 함수이다."
      ],
      "metadata": {
        "id": "u_kXZ7DzOGyp"
      }
    },
    {
      "cell_type": "code",
      "source": [
        "#100cm 농어의 이웃을 구하는 식\n",
        "distance, indexes = knr.kneighbors([[100]])\n",
        "\n",
        "#훈련 세트의 산점도를 그리는 식\n",
        "plt.scatter(train_input, train_target)\n",
        "\n",
        "#훈련 세트 중에서 이웃 샘플만 다시 그리는 식\n",
        "plt.scatter(train_input[indexes], train_target[indexes], marker='D')\n",
        "\n",
        "#100CM 농어 데이터\n",
        "plt.scatter(100, 1033, marker='^')\n",
        "plt.show()"
      ],
      "metadata": {
        "colab": {
          "base_uri": "https://localhost:8080/",
          "height": 430
        },
        "id": "eKZCNYN3D6S-",
        "outputId": "0c252ae0-db34-4fd3-a4f6-0fa604444f62"
      },
      "execution_count": 23,
      "outputs": [
        {
          "output_type": "display_data",
          "data": {
            "text/plain": [
              "<Figure size 640x480 with 1 Axes>"
            ],
            "image/png": "[encoded data removed]"
          },
          "metadata": {}
        }
      ]
    },
    {
      "cell_type": "code",
      "source": [
        "#x와 y값의 관계가 선형적으로 올라가는 선형 회귀\n",
        "from sklearn.linear_model import LinearRegression\n",
        "\n",
        "lr = LinearRegression()\n",
        "# 선형 회귀 모델 훈련\n",
        "lr.fit(train_input, train_target)\n",
        "\n",
        "#50cm 농어에 대한 예측\n",
        "print(lr.predict([[50]]))\n",
        "\n",
        "print(lr.coef_, lr.intercept_)"
      ],
      "metadata": {
        "colab": {
          "base_uri": "https://localhost:8080/"
        },
        "id": "ozVcLJDNFx8u",
        "outputId": "9c0849d0-c043-438c-815b-b90738c88ff4"
      },
      "execution_count": 25,
      "outputs": [
        {
          "output_type": "stream",
          "name": "stdout",
          "text": [
            "[1241.83860323]\n",
            "[39.01714496] -709.0186449535477\n"
          ]
        }
      ]
    },
    {
      "cell_type": "markdown",
      "source": [
        "sklearn -> KNeighborsClassifier, KNeighborsRegressor, LinearRegression\n",
        "\n",
        "50cm인 농어가 1241이 나왔을경우 무게가 1.24kg라고 예측한다는 것을 알 수 있고, y=ax+b 이때 a(기울기)가 coef를 의미 b(y값)가 intercept를 의미"
      ],
      "metadata": {
        "id": "FhE3wZOdGp_d"
      }
    },
    {
      "cell_type": "code",
      "source": [
        "#훈련 세트의 산점도를 그리는 식\n",
        "plt.scatter(train_input, train_target)\n",
        "\n",
        "#15에서 50까지 1차 방정식 그래프를 그리는 식\n",
        "plt.plot([15, 50], [15*lr.coef_+lr.intercept_, 50*lr.coef_+lr.intercept_])\n",
        "\n",
        "#50cm 농어 데이터\n",
        "plt.scatter(50, 1241.8, marker ='^')\n",
        "plt.show()\n",
        "\n",
        "print(lr.score(train_input, train_target))\n",
        "print(lr.score(test_input, test_target))\n",
        "\n",
        "#이때 lr은 LinearRegression을 의미"
      ],
      "metadata": {
        "colab": {
          "base_uri": "https://localhost:8080/",
          "height": 467
        },
        "id": "cLAjWQ3wF0Sa",
        "outputId": "d3e8c7f1-38e0-4282-9c96-e3b1d3c2aebd"
      },
      "execution_count": 27,
      "outputs": [
        {
          "output_type": "display_data",
          "data": {
            "text/plain": [
              "<Figure size 640x480 with 1 Axes>"
            ],
            "image/png": "[encoded data removed]"
          },
          "metadata": {}
        },
        {
          "output_type": "stream",
          "name": "stdout",
          "text": [
            "0.939846333997604\n",
            "0.8247503123313558\n"
          ]
        }
      ]
    },
    {
      "cell_type": "markdown",
      "source": [
        "선형회귀 직선그래프를 보았을 때 빨간 세모가 예측값인데 y값이 1200을 살짝 상회하는 것을보아 예측값인 1241에 맞는 그래프라고 볼 수 있다. 추가로 곡선 그래프가 있는데 그것은 3차방정식(y = ax^2 + bx + c)을 이용하여 예측값을 구한다."
      ],
      "metadata": {
        "id": "tsUoPwTxJAxC"
      }
    },
    {
      "cell_type": "code",
      "source": [
        "#다항 회귀\n",
        "train_poly = np.column_stack((train_input ** 2, train_input))\n",
        "test_poly = np.column_stack((test_input ** 2, test_input))\n",
        "\n",
        "print(test_poly)\n",
        "print(train_poly)"
      ],
      "metadata": {
        "colab": {
          "base_uri": "https://localhost:8080/"
        },
        "id": "QzvSa0J_JGLY",
        "outputId": "d8156eba-dcf5-45d7-f1f3-2784056b6c9c"
      },
      "execution_count": 30,
      "outputs": [
        {
          "output_type": "stream",
          "name": "stdout",
          "text": [
            "[[  70.56    8.4 ]\n",
            " [ 324.     18.  ]\n",
            " [ 756.25   27.5 ]\n",
            " [ 453.69   21.3 ]\n",
            " [ 506.25   22.5 ]\n",
            " [1600.     40.  ]\n",
            " [ 900.     30.  ]\n",
            " [ 605.16   24.6 ]\n",
            " [1521.     39.  ]\n",
            " [ 441.     21.  ]\n",
            " [1892.25   43.5 ]\n",
            " [ 262.44   16.2 ]\n",
            " [ 784.     28.  ]\n",
            " [ 745.29   27.3 ]]\n",
            "[[ 384.16   19.6 ]\n",
            " [ 484.     22.  ]\n",
            " [ 349.69   18.7 ]\n",
            " [ 302.76   17.4 ]\n",
            " [1296.     36.  ]\n",
            " [ 625.     25.  ]\n",
            " [1600.     40.  ]\n",
            " [1521.     39.  ]\n",
            " [1849.     43.  ]\n",
            " [ 484.     22.  ]\n",
            " [ 400.     20.  ]\n",
            " [ 484.     22.  ]\n",
            " [ 576.     24.  ]\n",
            " [ 756.25   27.5 ]\n",
            " [1849.     43.  ]\n",
            " [1600.     40.  ]\n",
            " [ 576.     24.  ]\n",
            " [ 441.     21.  ]\n",
            " [ 756.25   27.5 ]\n",
            " [1600.     40.  ]\n",
            " [1075.84   32.8 ]\n",
            " [ 702.25   26.5 ]\n",
            " [1332.25   36.5 ]\n",
            " [ 187.69   13.7 ]\n",
            " [ 515.29   22.7 ]\n",
            " [ 225.     15.  ]\n",
            " [1369.     37.  ]\n",
            " [1225.     35.  ]\n",
            " [ 823.69   28.7 ]\n",
            " [ 552.25   23.5 ]\n",
            " [1521.     39.  ]\n",
            " [ 441.     21.  ]\n",
            " [ 529.     23.  ]\n",
            " [ 484.     22.  ]\n",
            " [1936.     44.  ]\n",
            " [ 506.25   22.5 ]\n",
            " [ 361.     19.  ]\n",
            " [1369.     37.  ]\n",
            " [ 484.     22.  ]\n",
            " [ 655.36   25.6 ]\n",
            " [1764.     42.  ]\n",
            " [1190.25   34.5 ]]\n"
          ]
        }
      ]
    },
    {
      "cell_type": "code",
      "source": [
        "#모델 다시 훈련\n",
        "lr = LinearRegression()\n",
        "lr.fit(train_poly, train_target)\n",
        "\n",
        "print(lr.predict([[50**2, 50]]))\n",
        "print(lr.score(train_target, train_target))"
      ],
      "metadata": {
        "colab": {
          "base_uri": "https://localhost:8080/",
          "height": 465
        },
        "id": "lYYyIauyKLAe",
        "outputId": "b00de5e6-8ada-4239-c48b-fdf9227f0ae7"
      },
      "execution_count": 45,
      "outputs": [
        {
          "output_type": "stream",
          "name": "stdout",
          "text": [
            "[1573.98423528]\n"
          ]
        },
        {
          "output_type": "error",
          "ename": "ValueError",
          "evalue": "Expected 2D array, got 1D array instead:\narray=[  85.  135.   78.   70.  700.  180.  850.  820. 1000.  120.   85.  130.\n  225.  260. 1100.  900.  145.  115.  265. 1015.  514.  218.  685.   32.\n  145.   40.  690.  840.  300.  170.  650.  110.  150.  110. 1000.  150.\n   80.  700.  120.  197. 1100.  556.].\nReshape your data either using array.reshape(-1, 1) if your data has a single feature or array.reshape(1, -1) if it contains a single sample.",
          "traceback": [
            "\u001b[0;31m---------------------------------------------------------------------------\u001b[0m",
            "\u001b[0;31mValueError\u001b[0m                                Traceback (most recent call last)",
            "\u001b[0;32m/tmp/ipython-input-2779716.py\u001b[0m in \u001b[0;36m<cell line: 0>\u001b[0;34m()\u001b[0m\n\u001b[1;32m      4\u001b[0m \u001b[0;34m\u001b[0m\u001b[0m\n\u001b[1;32m      5\u001b[0m \u001b[0mprint\u001b[0m\u001b[0;34m(\u001b[0m\u001b[0mlr\u001b[0m\u001b[0;34m.\u001b[0m\u001b[0mpredict\u001b[0m\u001b[0;34m(\u001b[0m\u001b[0;34m[\u001b[0m\u001b[0;34m[\u001b[0m\u001b[0;36m50\u001b[0m\u001b[0;34m**\u001b[0m\u001b[0;36m2\u001b[0m\u001b[0;34m,\u001b[0m \u001b[0;36m50\u001b[0m\u001b[0;34m]\u001b[0m\u001b[0;34m]\u001b[0m\u001b[0;34m)\u001b[0m\u001b[0;34m)\u001b[0m\u001b[0;34m\u001b[0m\u001b[0;34m\u001b[0m\u001b[0m\n\u001b[0;32m----> 6\u001b[0;31m \u001b[0mprint\u001b[0m\u001b[0;34m(\u001b[0m\u001b[0mlr\u001b[0m\u001b[0;34m.\u001b[0m\u001b[0mscore\u001b[0m\u001b[0;34m(\u001b[0m\u001b[0mtrain_target\u001b[0m\u001b[0;34m,\u001b[0m \u001b[0mtrain_target\u001b[0m\u001b[0;34m)\u001b[0m\u001b[0;34m)\u001b[0m\u001b[0;34m\u001b[0m\u001b[0;34m\u001b[0m\u001b[0m\n\u001b[0m",
            "\u001b[0;32m/usr/local/lib/python3.12/dist-packages/sklearn/base.py\u001b[0m in \u001b[0;36mscore\u001b[0;34m(self, X, y, sample_weight)\u001b[0m\n\u001b[1;32m    660\u001b[0m         \u001b[0;32mfrom\u001b[0m \u001b[0;34m.\u001b[0m\u001b[0mmetrics\u001b[0m \u001b[0;32mimport\u001b[0m \u001b[0mr2_score\u001b[0m\u001b[0;34m\u001b[0m\u001b[0;34m\u001b[0m\u001b[0m\n\u001b[1;32m    661\u001b[0m \u001b[0;34m\u001b[0m\u001b[0m\n\u001b[0;32m--> 662\u001b[0;31m         \u001b[0my_pred\u001b[0m \u001b[0;34m=\u001b[0m \u001b[0mself\u001b[0m\u001b[0;34m.\u001b[0m\u001b[0mpredict\u001b[0m\u001b[0;34m(\u001b[0m\u001b[0mX\u001b[0m\u001b[0;34m)\u001b[0m\u001b[0;34m\u001b[0m\u001b[0;34m\u001b[0m\u001b[0m\n\u001b[0m\u001b[1;32m    663\u001b[0m         \u001b[0;32mreturn\u001b[0m \u001b[0mr2_score\u001b[0m\u001b[0;34m(\u001b[0m\u001b[0my\u001b[0m\u001b[0;34m,\u001b[0m \u001b[0my_pred\u001b[0m\u001b[0;34m,\u001b[0m \u001b[0msample_weight\u001b[0m\u001b[0;34m=\u001b[0m\u001b[0msample_weight\u001b[0m\u001b[0;34m)\u001b[0m\u001b[0;34m\u001b[0m\u001b[0;34m\u001b[0m\u001b[0m\n\u001b[1;32m    664\u001b[0m \u001b[0;34m\u001b[0m\u001b[0m\n",
            "\u001b[0;32m/usr/local/lib/python3.12/dist-packages/sklearn/linear_model/_base.py\u001b[0m in \u001b[0;36mpredict\u001b[0;34m(self, X)\u001b[0m\n\u001b[1;32m    295\u001b[0m             \u001b[0mReturns\u001b[0m \u001b[0mpredicted\u001b[0m \u001b[0mvalues\u001b[0m\u001b[0;34m.\u001b[0m\u001b[0;34m\u001b[0m\u001b[0;34m\u001b[0m\u001b[0m\n\u001b[1;32m    296\u001b[0m         \"\"\"\n\u001b[0;32m--> 297\u001b[0;31m         \u001b[0;32mreturn\u001b[0m \u001b[0mself\u001b[0m\u001b[0;34m.\u001b[0m\u001b[0m_decision_function\u001b[0m\u001b[0;34m(\u001b[0m\u001b[0mX\u001b[0m\u001b[0;34m)\u001b[0m\u001b[0;34m\u001b[0m\u001b[0;34m\u001b[0m\u001b[0m\n\u001b[0m\u001b[1;32m    298\u001b[0m \u001b[0;34m\u001b[0m\u001b[0m\n\u001b[1;32m    299\u001b[0m     \u001b[0;32mdef\u001b[0m \u001b[0m_set_intercept\u001b[0m\u001b[0;34m(\u001b[0m\u001b[0mself\u001b[0m\u001b[0;34m,\u001b[0m \u001b[0mX_offset\u001b[0m\u001b[0;34m,\u001b[0m \u001b[0my_offset\u001b[0m\u001b[0;34m,\u001b[0m \u001b[0mX_scale\u001b[0m\u001b[0;34m)\u001b[0m\u001b[0;34m:\u001b[0m\u001b[0;34m\u001b[0m\u001b[0;34m\u001b[0m\u001b[0m\n",
            "\u001b[0;32m/usr/local/lib/python3.12/dist-packages/sklearn/linear_model/_base.py\u001b[0m in \u001b[0;36m_decision_function\u001b[0;34m(self, X)\u001b[0m\n\u001b[1;32m    274\u001b[0m         \u001b[0mcheck_is_fitted\u001b[0m\u001b[0;34m(\u001b[0m\u001b[0mself\u001b[0m\u001b[0;34m)\u001b[0m\u001b[0;34m\u001b[0m\u001b[0;34m\u001b[0m\u001b[0m\n\u001b[1;32m    275\u001b[0m \u001b[0;34m\u001b[0m\u001b[0m\n\u001b[0;32m--> 276\u001b[0;31m         \u001b[0mX\u001b[0m \u001b[0;34m=\u001b[0m \u001b[0mvalidate_data\u001b[0m\u001b[0;34m(\u001b[0m\u001b[0mself\u001b[0m\u001b[0;34m,\u001b[0m \u001b[0mX\u001b[0m\u001b[0;34m,\u001b[0m \u001b[0maccept_sparse\u001b[0m\u001b[0;34m=\u001b[0m\u001b[0;34m[\u001b[0m\u001b[0;34m\"csr\"\u001b[0m\u001b[0;34m,\u001b[0m \u001b[0;34m\"csc\"\u001b[0m\u001b[0;34m,\u001b[0m \u001b[0;34m\"coo\"\u001b[0m\u001b[0;34m]\u001b[0m\u001b[0;34m,\u001b[0m \u001b[0mreset\u001b[0m\u001b[0;34m=\u001b[0m\u001b[0;32mFalse\u001b[0m\u001b[0;34m)\u001b[0m\u001b[0;34m\u001b[0m\u001b[0;34m\u001b[0m\u001b[0m\n\u001b[0m\u001b[1;32m    277\u001b[0m         \u001b[0mcoef_\u001b[0m \u001b[0;34m=\u001b[0m \u001b[0mself\u001b[0m\u001b[0;34m.\u001b[0m\u001b[0mcoef_\u001b[0m\u001b[0;34m\u001b[0m\u001b[0;34m\u001b[0m\u001b[0m\n\u001b[1;32m    278\u001b[0m         \u001b[0;32mif\u001b[0m \u001b[0mcoef_\u001b[0m\u001b[0;34m.\u001b[0m\u001b[0mndim\u001b[0m \u001b[0;34m==\u001b[0m \u001b[0;36m1\u001b[0m\u001b[0;34m:\u001b[0m\u001b[0;34m\u001b[0m\u001b[0;34m\u001b[0m\u001b[0m\n",
            "\u001b[0;32m/usr/local/lib/python3.12/dist-packages/sklearn/utils/validation.py\u001b[0m in \u001b[0;36mvalidate_data\u001b[0;34m(_estimator, X, y, reset, validate_separately, skip_check_array, **check_params)\u001b[0m\n\u001b[1;32m   2942\u001b[0m             \u001b[0mout\u001b[0m \u001b[0;34m=\u001b[0m \u001b[0mX\u001b[0m\u001b[0;34m,\u001b[0m \u001b[0my\u001b[0m\u001b[0;34m\u001b[0m\u001b[0;34m\u001b[0m\u001b[0m\n\u001b[1;32m   2943\u001b[0m     \u001b[0;32melif\u001b[0m \u001b[0;32mnot\u001b[0m \u001b[0mno_val_X\u001b[0m \u001b[0;32mand\u001b[0m \u001b[0mno_val_y\u001b[0m\u001b[0;34m:\u001b[0m\u001b[0;34m\u001b[0m\u001b[0;34m\u001b[0m\u001b[0m\n\u001b[0;32m-> 2944\u001b[0;31m         \u001b[0mout\u001b[0m \u001b[0;34m=\u001b[0m \u001b[0mcheck_array\u001b[0m\u001b[0;34m(\u001b[0m\u001b[0mX\u001b[0m\u001b[0;34m,\u001b[0m \u001b[0minput_name\u001b[0m\u001b[0;34m=\u001b[0m\u001b[0;34m\"X\"\u001b[0m\u001b[0;34m,\u001b[0m \u001b[0;34m**\u001b[0m\u001b[0mcheck_params\u001b[0m\u001b[0;34m)\u001b[0m\u001b[0;34m\u001b[0m\u001b[0;34m\u001b[0m\u001b[0m\n\u001b[0m\u001b[1;32m   2945\u001b[0m     \u001b[0;32melif\u001b[0m \u001b[0mno_val_X\u001b[0m \u001b[0;32mand\u001b[0m \u001b[0;32mnot\u001b[0m \u001b[0mno_val_y\u001b[0m\u001b[0;34m:\u001b[0m\u001b[0;34m\u001b[0m\u001b[0;34m\u001b[0m\u001b[0m\n\u001b[1;32m   2946\u001b[0m         \u001b[0mout\u001b[0m \u001b[0;34m=\u001b[0m \u001b[0m_check_y\u001b[0m\u001b[0;34m(\u001b[0m\u001b[0my\u001b[0m\u001b[0;34m,\u001b[0m \u001b[0;34m**\u001b[0m\u001b[0mcheck_params\u001b[0m\u001b[0;34m)\u001b[0m\u001b[0;34m\u001b[0m\u001b[0;34m\u001b[0m\u001b[0m\n",
            "\u001b[0;32m/usr/local/lib/python3.12/dist-packages/sklearn/utils/validation.py\u001b[0m in \u001b[0;36mcheck_array\u001b[0;34m(array, accept_sparse, accept_large_sparse, dtype, order, copy, force_writeable, force_all_finite, ensure_all_finite, ensure_non_negative, ensure_2d, allow_nd, ensure_min_samples, ensure_min_features, estimator, input_name)\u001b[0m\n\u001b[1;32m   1091\u001b[0m                         \u001b[0;34m\"if it contains a single sample.\"\u001b[0m\u001b[0;34m\u001b[0m\u001b[0;34m\u001b[0m\u001b[0m\n\u001b[1;32m   1092\u001b[0m                     )\n\u001b[0;32m-> 1093\u001b[0;31m                 \u001b[0;32mraise\u001b[0m \u001b[0mValueError\u001b[0m\u001b[0;34m(\u001b[0m\u001b[0mmsg\u001b[0m\u001b[0;34m)\u001b[0m\u001b[0;34m\u001b[0m\u001b[0;34m\u001b[0m\u001b[0m\n\u001b[0m\u001b[1;32m   1094\u001b[0m \u001b[0;34m\u001b[0m\u001b[0m\n\u001b[1;32m   1095\u001b[0m         \u001b[0;32mif\u001b[0m \u001b[0mdtype_numeric\u001b[0m \u001b[0;32mand\u001b[0m \u001b[0mhasattr\u001b[0m\u001b[0;34m(\u001b[0m\u001b[0marray\u001b[0m\u001b[0;34m.\u001b[0m\u001b[0mdtype\u001b[0m\u001b[0;34m,\u001b[0m \u001b[0;34m\"kind\"\u001b[0m\u001b[0;34m)\u001b[0m \u001b[0;32mand\u001b[0m \u001b[0marray\u001b[0m\u001b[0;34m.\u001b[0m\u001b[0mdtype\u001b[0m\u001b[0;34m.\u001b[0m\u001b[0mkind\u001b[0m \u001b[0;32min\u001b[0m \u001b[0;34m\"USV\"\u001b[0m\u001b[0;34m:\u001b[0m\u001b[0;34m\u001b[0m\u001b[0;34m\u001b[0m\u001b[0m\n",
            "\u001b[0;31mValueError\u001b[0m: Expected 2D array, got 1D array instead:\narray=[  85.  135.   78.   70.  700.  180.  850.  820. 1000.  120.   85.  130.\n  225.  260. 1100.  900.  145.  115.  265. 1015.  514.  218.  685.   32.\n  145.   40.  690.  840.  300.  170.  650.  110.  150.  110. 1000.  150.\n   80.  700.  120.  197. 1100.  556.].\nReshape your data either using array.reshape(-1, 1) if your data has a single feature or array.reshape(1, -1) if it contains a single sample."
          ]
        }
      ]
    },
    {
      "cell_type": "code",
      "source": [
        "#구간별 직선으로 그리기 위해 15에서 49까지 정수 배열을 만듭니다\n",
        "point = np.arange(15, 50)\n",
        "\n",
        "#훈련 세트의 산점도를 그립니다\n",
        "plt.scatter(train_input, train_target)\n",
        "\n",
        "#15에서 49까지 2차 방정식 그래프를 그리는 식\n",
        "plt.plot(point, 1.01*point**2 - 21.6*point + 116.05)\n",
        "\n",
        "#50cm 농어 데이터\n",
        "plt.scatter([50], [1574], marker='^')\n",
        "plt.show()\n",
        "\n",
        "print(lr.score(train_poly, train_target))\n",
        "print(lr.score(test_poly, test_target))"
      ],
      "metadata": {
        "colab": {
          "base_uri": "https://localhost:8080/",
          "height": 467
        },
        "id": "lYp1g3aAK_t7",
        "outputId": "6d3877ed-9c50-4cc1-da50-65d72494a54b"
      },
      "execution_count": 44,
      "outputs": [
        {
          "output_type": "display_data",
          "data": {
            "text/plain": [
              "<Figure size 640x480 with 1 Axes>"
            ],
            "image/png": "[encoded data removed]"
          },
          "metadata": {}
        },
        {
          "output_type": "stream",
          "name": "stdout",
          "text": [
            "0.9706807451768623\n",
            "0.9775935108325122\n"
          ]
        }
      ]
    }
  ]
}